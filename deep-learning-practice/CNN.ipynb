{
  "nbformat": 4,
  "nbformat_minor": 0,
  "metadata": {
    "colab": {
      "name": "CNN.ipynb",
      "provenance": [],
      "collapsed_sections": [],
      "authorship_tag": "ABX9TyPBKqSrIqr6gjfa8AUWz5ut",
      "include_colab_link": true
    },
    "kernelspec": {
      "name": "python3",
      "display_name": "Python 3"
    }
  },
  "cells": [
    {
      "cell_type": "markdown",
      "metadata": {
        "id": "view-in-github",
        "colab_type": "text"
      },
      "source": [
        "<a href=\"https://colab.research.google.com/github/manishkumar-dsi/finding-order-in-chaos/blob/master/deep-learning-practice/CNN.ipynb\" target=\"_parent\"><img src=\"https://colab.research.google.com/assets/colab-badge.svg\" alt=\"Open In Colab\"/></a>"
      ]
    },
    {
      "cell_type": "code",
      "metadata": {
        "id": "YmdUWqnsiAe3",
        "colab_type": "code",
        "colab": {}
      },
      "source": [
        "import os\n",
        "import numpy as np\n",
        "import matplotlib.pyplot as plt\n"
      ],
      "execution_count": 0,
      "outputs": []
    },
    {
      "cell_type": "code",
      "metadata": {
        "id": "xUdiBdLkj15x",
        "colab_type": "code",
        "colab": {}
      },
      "source": [
        "import tensorflow as tf\n",
        "from tensorflow.keras.preprocessing.image import ImageDataGenerator"
      ],
      "execution_count": 0,
      "outputs": []
    },
    {
      "cell_type": "code",
      "metadata": {
        "id": "h0cZ0_xJjx9q",
        "colab_type": "code",
        "colab": {
          "base_uri": "https://localhost:8080/",
          "height": 52
        },
        "outputId": "b489d402-a55b-4c73-c419-fbf2443ffc85"
      },
      "source": [
        "_URL = 'https://storage.googleapis.com/mledu-datasets/cats_and_dogs_filtered.zip'\n",
        "zip_dir = tf.keras.utils.get_file('cats_and_dogs_filtered.zip', origin=_URL, extract=True)"
      ],
      "execution_count": 4,
      "outputs": [
        {
          "output_type": "stream",
          "text": [
            "Downloading data from https://storage.googleapis.com/mledu-datasets/cats_and_dogs_filtered.zip\n",
            "68608000/68606236 [==============================] - 1s 0us/step\n"
          ],
          "name": "stdout"
        }
      ]
    },
    {
      "cell_type": "code",
      "metadata": {
        "id": "p0yhdT4gki6t",
        "colab_type": "code",
        "colab": {}
      },
      "source": [
        "base_dir = os.path.join(os.path.dirname(zip_dir), 'cats_and_dogs_filtered')\n",
        "train_dir = os.path.join(base_dir, 'train')\n",
        "validation_dir = os.path.join(base_dir, 'validation')"
      ],
      "execution_count": 0,
      "outputs": []
    },
    {
      "cell_type": "code",
      "metadata": {
        "id": "Z0omH9_xlO15",
        "colab_type": "code",
        "colab": {}
      },
      "source": [
        "# directory for training data set for cats\n",
        "train_cats_dir = os.path.join(train_dir, 'cats')\n",
        "# directory for training data sets for dogs\n",
        "train_dogs_dir = os.path.join(train_dir, 'dogs')\n",
        "# validation directory for cats\n",
        "validation_cats_dir = os.path.join(validation_dir, 'cats')\n",
        "validation_dogs_dir = os.path.join(validation_dir, 'dogs')"
      ],
      "execution_count": 0,
      "outputs": []
    },
    {
      "cell_type": "code",
      "metadata": {
        "id": "rjTCvCnFl4Qn",
        "colab_type": "code",
        "colab": {
          "base_uri": "https://localhost:8080/",
          "height": 87
        },
        "outputId": "fc6c7b75-ed01-49cc-dac1-0de694907a9c"
      },
      "source": [
        "# Data understanding\n",
        "\n",
        "# get the counts for training set\n",
        "num_tr_cats = len(os.listdir(train_cats_dir))\n",
        "num_tr_dogs = len(os.listdir(train_dogs_dir))\n",
        "# get counts for validation set\n",
        "num_val_cats = len(os.listdir(validation_cats_dir))\n",
        "num_val_dogs = len(os.listdir(validation_dogs_dir))\n",
        "\n",
        "# total counts\n",
        "total_train = num_tr_cats + num_tr_dogs\n",
        "total_val = num_val_cats + num_val_dogs\n",
        "\n",
        "print('total number of training cats: ', num_tr_cats)\n",
        "print('total number of training dogs: ', num_tr_dogs)\n",
        "print('total numbers of training images: ', total_train)\n",
        "print('total numbers of validation images: ', total_val)"
      ],
      "execution_count": 8,
      "outputs": [
        {
          "output_type": "stream",
          "text": [
            "total number of training cats:  1000\n",
            "total number of training dogs:  1000\n",
            "total numbers of training images:  2000\n",
            "total numbers of validation images:  1000\n"
          ],
          "name": "stdout"
        }
      ]
    },
    {
      "cell_type": "code",
      "metadata": {
        "id": "tmfD81kPn7ur",
        "colab_type": "code",
        "colab": {}
      },
      "source": [
        "# Set model parameters\n",
        "BATCH_SIZE = 100\n",
        "IMG_SHAPE = 150 # image shape is 150px X 150px"
      ],
      "execution_count": 0,
      "outputs": []
    },
    {
      "cell_type": "code",
      "metadata": {
        "id": "n5244ueXoPQt",
        "colab_type": "code",
        "colab": {}
      },
      "source": [
        "# data augmentation\n"
      ],
      "execution_count": 0,
      "outputs": []
    }
  ]
}